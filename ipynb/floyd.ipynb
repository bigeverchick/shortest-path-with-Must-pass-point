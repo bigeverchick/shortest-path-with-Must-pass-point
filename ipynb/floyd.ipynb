{
 "cells": [
  {
   "cell_type": "code",
   "execution_count": 2,
   "metadata": {
    "scrolled": false
   },
   "outputs": [
    {
     "ename": "NameError",
     "evalue": "name 'Dis' is not defined",
     "output_type": "error",
     "traceback": [
      "\u001b[0;31m---------------------------------------------------------------------------\u001b[0m",
      "\u001b[0;31mNameError\u001b[0m                                 Traceback (most recent call last)",
      "Input \u001b[0;32mIn [2]\u001b[0m, in \u001b[0;36m<cell line: 17>\u001b[0;34m()\u001b[0m\n\u001b[1;32m     19\u001b[0m         \u001b[38;5;28;01mif\u001b[39;00m i \u001b[38;5;241m>\u001b[39m j:\n\u001b[1;32m     20\u001b[0m             dis \u001b[38;5;241m=\u001b[39m ((City[i][\u001b[38;5;241m0\u001b[39m] \u001b[38;5;241m-\u001b[39m City[j][\u001b[38;5;241m0\u001b[39m]) \u001b[38;5;241m*\u001b[39m\u001b[38;5;241m*\u001b[39m \u001b[38;5;241m2\u001b[39m \u001b[38;5;241m+\u001b[39m (City[i][\u001b[38;5;241m1\u001b[39m] \u001b[38;5;241m-\u001b[39m City[j][\u001b[38;5;241m1\u001b[39m]) \u001b[38;5;241m*\u001b[39m\u001b[38;5;241m*\u001b[39m \u001b[38;5;241m2\u001b[39m) \u001b[38;5;241m*\u001b[39m\u001b[38;5;241m*\u001b[39m \u001b[38;5;241m0.5\u001b[39m\n\u001b[0;32m---> 21\u001b[0m             \u001b[43mDis\u001b[49m[(i, j)] \u001b[38;5;241m=\u001b[39m dis\n\u001b[1;32m     22\u001b[0m             Dis[(j, i)] \u001b[38;5;241m=\u001b[39m dis\n\u001b[1;32m     24\u001b[0m Data_BestFit \u001b[38;5;241m=\u001b[39m[]   \u001b[38;5;66;03m#用于保存每一代蚂蚁的最优适应度\u001b[39;00m\n",
      "\u001b[0;31mNameError\u001b[0m: name 'Dis' is not defined"
     ]
    }
   ],
   "source": [
    "import math\n",
    "import numpy as np\n",
    "import matplotlib.pyplot as plt\n",
    "City = [[ 5.30785468,  3.96298925],\n",
    "       [ 1.17807483,  6.08522083],\n",
    "       [ 4.69130159, -4.39248857],\n",
    "       [ 9.58997793, -6.8811244 ],\n",
    "       [-7.49918801,  3.73756751],\n",
    "       [ 3.48853573,  3.10825224],\n",
    "       [ 9.50458416, -0.88122516],\n",
    "       [-2.75675926, -3.00510379],\n",
    "       [ 3.52125262,  9.23299989],\n",
    "       [ 6.95015112, -2.46618722]]\n",
    "\n",
    "# 随机生成城市信息\n",
    "\n",
    "for i in range(10):\n",
    "    for j in range(10):\n",
    "        if i > j:\n",
    "            dis = ((City[i][0] - City[j][0]) ** 2 + (City[i][1] - City[j][1]) ** 2) ** 0.5\n",
    "            Dis[(i, j)] = dis\n",
    "            Dis[(j, i)] = dis\n",
    "\n",
    "Data_BestFit =[]   #用于保存每一代蚂蚁的最优适应度\n",
    "\n",
    "#适应度计算函数 适应值= 城市数量 / 路径距离\n",
    "def Cal_Fit(X):\n",
    "    total_dis = Dis[(X[-1], X[0])]\n",
    "    for i in range(nCity - 1):\n",
    "        total_dis += Dis[(X[i], X[i + 1])]\n",
    "    return nCity / total_dis\n",
    "\n",
    "def ACA_TSP():\n",
    "    nPop = 100        # 种群大小\n",
    "    Maxit = 100       # 最大迭代次数\n",
    "    Rou = 1.0         # 蒸发系数\n",
    "    Rou_damp = 0.95   # 蒸发系数衰减度\n",
    "    Rou_min = 0.1     # 最小蒸发系数\n",
    "    alpha = 1         # 信息素重要程度\n",
    "    beta = 0.2        # 启发式信息重要程度\n",
    "    epsilon = 1e-5    # 初始信息素浓度\n",
    "    Phe = {}          # 保存信息素的字典\n",
    "    for key in Dis.keys():\n",
    "        Phe[key] = epsilon\n",
    "\n",
    "    Fit = [0.0 for i in range(nPop)]\n",
    "    Best_Ant = None\n",
    "    Best_Fit = -math.inf\n",
    "\n",
    "    # 迭代求解\n",
    "    for j in range(Maxit):\n",
    "        Ant = [[] for i in range(nPop)]\n",
    "        #蚂蚁寻路\n",
    "        for i in range(nPop):\n",
    "            # 以第一个城市为起点，依次从剩下的城市中按照概率挑选目标\n",
    "            # Open保存已被选取的城市\n",
    "            # Close保存未被选取的城市\n",
    "            Open = [0]\n",
    "            Close = [i for i in range(1,nCity)]\n",
    "            while Close:\n",
    "                if len(Close) == 1:\n",
    "                    Open.append(Close.pop(0))\n",
    "                else:\n",
    "                    P = np.zeros([len(Close)])\n",
    "                    for k in range(len(Close)):\n",
    "                        P[k] = Phe[(Open[-1], Close[k])] ** alpha + Dis[(Open[-1], Close[k])] ** beta\n",
    "                    P = P / sum(P)\n",
    "                    next_index = np.random.choice(range(len(Close)), size=1, p=P)[0]\n",
    "                    Open.append(Close.pop(next_index))\n",
    "            Ant[i] = Open.copy()\n",
    "\n",
    "        #计算每只蚂蚁的路径适应值\n",
    "        for i in range(nPop):\n",
    "            Fit[i] = Cal_Fit(Ant[i])\n",
    "            if Fit[i] > Best_Fit:\n",
    "                Best_Fit = Fit[i]\n",
    "                Best_Ant = Ant[i].copy()\n",
    "\n",
    "        #根据蚂蚁路径更新信息素表\n",
    "        for i in range(nPop):\n",
    "            for k in range(nCity-1):\n",
    "                Phe[(Ant[i][k],Ant[i][k+1])] = Fit[i] + \\\n",
    "                                               (1 - Rou) * Phe[(Ant[i][k],Ant[i][k+1])]\n",
    "        Rou = max(Rou * Rou_damp ,Rou_min)\n",
    "\n",
    "        Data_BestFit.append(Best_Fit)\n",
    "\n",
    "    return Best_Ant, Best_Fit\n",
    "\n",
    "# 绘制路径与迭代曲线\n",
    "def Draw_City(City, X ,Best_Fit):\n",
    "    X = list(X)\n",
    "    X.append(X[0])\n",
    "    coor_x = []\n",
    "    coor_y = []\n",
    "    for i in X:\n",
    "        i = int(i)\n",
    "        coor_x.append(City[i][0])\n",
    "        coor_y.append(City[i][1])\n",
    "\n",
    "    plt.plot(coor_x, coor_y, 'r-o')\n",
    "    plt.title('TSP with Ant Colony Algorithm\\n'+'total_dis = '+str(round(Best_Fit,3)))\n",
    "    plt.show()\n",
    "\n",
    "    plt.plot(range(len(Data_BestFit)), Data_BestFit)\n",
    "    plt.title('Iteration_BestFit')\n",
    "    plt.xlabel('iteration')\n",
    "    plt.ylabel('fitness')\n",
    "    plt.show()\n",
    "\n",
    "\n",
    "if __name__ == '__main__':\n",
    "    Best_X, Best_Fit = ACA_TSP()\n",
    "    Draw_City(City, Best_X, (Best_Fit/nCity)**-1)\n",
    "\n",
    "\n",
    "\n"
   ]
  },
  {
   "cell_type": "code",
   "execution_count": 7,
   "metadata": {},
   "outputs": [
    {
     "data": {
      "text/plain": [
       "'Z'"
      ]
     },
     "execution_count": 7,
     "metadata": {},
     "output_type": "execute_result"
    }
   ],
   "source": [
    "n = 52\n",
    "alpha = 'ABCDEFGHIJKLMNOPQRSTUVWXYZ'\n",
    "str = ''\n",
    "def find_index(n):\n",
    "    num = int(n/26)\n",
    "    t = n - num * 26\n",
    "    str += alpha[t-1]\n",
    "\n",
    "\n",
    "\n",
    "str"
   ]
  },
  {
   "cell_type": "code",
   "execution_count": 9,
   "metadata": {
    "scrolled": false
   },
   "outputs": [
    {
     "data": {
      "text/plain": [
       "'\\ninf = math.inf\\n\\nstarttime = time.time()\\nh = floyd(s)\\nendtime = time.time()\\nprint(\"运行时间\",endtime - starttime)'"
      ]
     },
     "execution_count": 9,
     "metadata": {},
     "output_type": "execute_result"
    }
   ],
   "source": [
    "import math\n",
    "import time\n",
    "\n",
    "def floyd(graph):\n",
    "    \n",
    "    dis = graph.copy()\n",
    "    \n",
    "    for k in range(len(graph)):\n",
    "        dis_k = dis.copy()\n",
    "        for i in range(len(graph)):\n",
    "            for j in range(len(graph)):\n",
    "                if dis[i][k] + dis[k][j] < dis[i][j]:\n",
    "                    dis_k[i][j] = dis[i][k] + dis[k][j]\n",
    "        dis = dis_k.copy()\n",
    "    \n",
    "    return dis_k\n",
    "\n",
    "'''\n",
    "inf = math.inf\n",
    "\n",
    "starttime = time.time()\n",
    "h = floyd(s)\n",
    "endtime = time.time()\n",
    "print(\"运行时间\",endtime - starttime)'''"
   ]
  },
  {
   "cell_type": "code",
   "execution_count": 1,
   "metadata": {},
   "outputs": [],
   "source": [
    "import random\n",
    "import math\n",
    "n = 50\n",
    "s = [[math.inf for i in range(n)]for i in range(n)]\n",
    "for i in range(n - 1):\n",
    "    num1 = random.randrange(i +1,n)\n",
    "    num2 = random.randrange(i + 1,n)\n",
    "    s[i][num1] = random.randrange(2000,4000)\n",
    "    s[i][num2] = random.randrange(2000,4000)\n",
    "    s[num1][i] = s[i][num1]\n",
    "    s[num2][i] = s[i][num2]\n",
    "for i in range(n):\n",
    "    s[i][i] = 0"
   ]
  },
  {
   "cell_type": "code",
   "execution_count": 2,
   "metadata": {
    "scrolled": false
   },
   "outputs": [],
   "source": [
    "import math\n",
    "inf = math.inf\n",
    "dis = [[0, 6, 8, 1, inf, inf, inf, inf, inf, inf, inf],\n",
    " [6, 0, inf, 2, 1, inf, inf, inf, inf, inf, inf],\n",
    " [8, inf, 0, 5, 5, 1, 2, inf, inf, inf, inf],\n",
    " [1, 2, 5, 0, inf, inf, 6, inf, inf, inf, 2],\n",
    " [inf, 1, 5, inf, 0, 3, inf, 2, 9, inf, inf],\n",
    " [inf, inf, 1, inf, 3, 0, 4, inf, 6, inf, inf],\n",
    " [inf, inf, 2, 6, inf, 4, 0, inf, 3, 1, inf],\n",
    " [inf, inf, inf, inf, 2, inf, inf, 0, 7, inf, 9],\n",
    " [inf, inf, inf, inf, 9, 6, 3, 7, 0, 1, 2],\n",
    " [inf, inf, inf, inf, inf, inf, 1, inf, 1, 0, 4],\n",
    " [inf, inf, inf, 2, inf, inf, inf, 9, 2, 4, 0]]"
   ]
  },
  {
   "cell_type": "code",
   "execution_count": 3,
   "metadata": {},
   "outputs": [
    {
     "ename": "NameError",
     "evalue": "name 'floyd' is not defined",
     "output_type": "error",
     "traceback": [
      "\u001b[0;31m---------------------------------------------------------------------------\u001b[0m",
      "\u001b[0;31mNameError\u001b[0m                                 Traceback (most recent call last)",
      "Input \u001b[0;32mIn [3]\u001b[0m, in \u001b[0;36m<cell line: 1>\u001b[0;34m()\u001b[0m\n\u001b[0;32m----> 1\u001b[0m \u001b[43mfloyd\u001b[49m(dis)\n",
      "\u001b[0;31mNameError\u001b[0m: name 'floyd' is not defined"
     ]
    }
   ],
   "source": [
    "floyd(dis)"
   ]
  }
 ],
 "metadata": {
  "kernelspec": {
   "display_name": "Python 3 (ipykernel)",
   "language": "python",
   "name": "python3"
  },
  "language_info": {
   "codemirror_mode": {
    "name": "ipython",
    "version": 3
   },
   "file_extension": ".py",
   "mimetype": "text/x-python",
   "name": "python",
   "nbconvert_exporter": "python",
   "pygments_lexer": "ipython3",
   "version": "3.9.10+"
  }
 },
 "nbformat": 4,
 "nbformat_minor": 2
}
