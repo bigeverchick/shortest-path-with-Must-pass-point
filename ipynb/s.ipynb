{
 "cells": [
  {
   "cell_type": "code",
   "execution_count": 60,
   "metadata": {
    "scrolled": true
   },
   "outputs": [
    {
     "data": {
      "text/plain": [
       "0.3385"
      ]
     },
     "execution_count": 60,
     "metadata": {},
     "output_type": "execute_result"
    }
   ],
   "source": [
    "import math\n",
    "import random\n",
    "n = int(1e4)\n",
    "xy = [[random.uniform(0,1) for i in range(2)]for i in range(n)]\n",
    "times = 0\n",
    "for i in xy:\n",
    "    x = i[0]\n",
    "    y = i[1]\n",
    "    \n",
    "    if y <=  math.exp(- x * x /2)/math.sqrt(2*math.pi):\n",
    "        times += 1\n",
    "times / n"
   ]
  },
  {
   "cell_type": "code",
   "execution_count": 14,
   "metadata": {},
   "outputs": [
    {
     "data": {
      "text/plain": [
       "0.5"
      ]
     },
     "execution_count": 14,
     "metadata": {},
     "output_type": "execute_result"
    }
   ],
   "source": [
    "1/2"
   ]
  },
  {
   "cell_type": "code",
   "execution_count": 2,
   "metadata": {
    "scrolled": true
   },
   "outputs": [
    {
     "name": "stdout",
     "output_type": "stream",
     "text": [
      "[1, 0, 2, 4, 5, 6, 3, 10, 7, 8, 9]\n",
      "[2, 0, 1, 3, 6, 5, 4, 7, 8, 9, 10]\n",
      "[3, 0, 1, 4, 2, 5, 6, 8, 7, 10, 9]\n",
      "[4, 1, 0, 2, 5, 6, 3, 10, 7, 8, 9]\n",
      "[5, 2, 0, 1, 3, 6, 8, 4, 7, 10, 9]\n",
      "[6, 2, 0, 1, 3, 10, 7, 4, 5, 8, 9]\n",
      "[7, 4, 1, 0, 2, 5, 6, 3, 10, 8, 9]\n",
      "[8, 4, 1, 0, 2, 5, 6, 3, 10, 7, 10, 9]\n",
      "[9, 6, 2, 0, 1, 3, 10, 7, 4, 5, 8]\n",
      "[10, 3, 0, 1, 4, 2, 5, 6, 8, 7, 8, 9]\n"
     ]
    }
   ],
   "source": [
    "import random\n",
    "graph =[[1,2, 3],[0,3,4],[0,4, 5, 6],[0, 1,2, 6,10],[1,2, 5, 7,8],[2,4,6,8],[2,3,5,8,9],[4,8,10],[4,5,6,7,9,10],[6,8,10],[3,7,8,9]]\n",
    "path = [0]\n",
    "visited = [0]\n",
    "\n",
    "def search(i): #i为第i次，i为0，path[0]=0,graph[0]= (1,3)\n",
    "    \n",
    "    if set(path) == set([q for q in range(len(graph))]):\n",
    "        return path #结束搜索\n",
    "    temp = graph[path[i]] #i次搜索到的点的邻接点\n",
    "    \n",
    "    if set(visited) > set(list(temp)):#visited包含了temp\n",
    "        for t in range(1,len(path) + 1):\n",
    "            path.append(path[i - t])\n",
    "            temp_t = graph[path[len(path) - 1]]\n",
    "            if set(visited) > set(temp_t):\n",
    "                continue\n",
    "            else:\n",
    "                return search(len(path) -1)\n",
    "             #回到上一个有未经邻接点的点\n",
    "        \n",
    "    for j in temp:\n",
    "        #如果邻接的点中有没经过（不在visited中）的点，作为下一个\n",
    "        \n",
    "        if j not in visited:\n",
    "            path.append(j)\n",
    "            visited.append(j)\n",
    "            return search(i+1)\n",
    "    return -1\n",
    "for n in range(1,len(graph)):\n",
    "    path= [0]\n",
    "    visited = [0]\n",
    "    path[0] = n\n",
    "    visited[0] = n\n",
    "\n",
    "    print(search(0))\n",
    "    \n"
   ]
  },
  {
   "cell_type": "code",
   "execution_count": 5,
   "metadata": {},
   "outputs": [
    {
     "data": {
      "text/plain": [
       "[[3, 1, 2],\n",
       " [0, 3, 4],\n",
       " [0, 4, 5, 6],\n",
       " [0, 1, 2, 6, 10],\n",
       " [1, 2, 5, 7, 8],\n",
       " [2, 4, 6, 8],\n",
       " [2, 3, 5, 8, 9],\n",
       " [4, 8, 10],\n",
       " [4, 5, 6, 7, 9, 10],\n",
       " [6, 8, 10],\n",
       " [3, 7, 8, 9]]"
      ]
     },
     "execution_count": 5,
     "metadata": {},
     "output_type": "execute_result"
    }
   ],
   "source": [
    "for n in range(len(graph)):\n",
    "    random.shuffle(graph[0])\n",
    "graph"
   ]
  },
  {
   "cell_type": "code",
   "execution_count": 1,
   "metadata": {},
   "outputs": [
    {
     "data": {
      "text/plain": [
       "[0, 1, 2, 3, 4, 5, 6, 7, 8, 9, 10]"
      ]
     },
     "execution_count": 1,
     "metadata": {},
     "output_type": "execute_result"
    }
   ],
   "source": [
    " [i for i in range(11)]"
   ]
  },
  {
   "cell_type": "code",
   "execution_count": 31,
   "metadata": {},
   "outputs": [
    {
     "data": {
      "text/plain": [
       "[3, 1, 2]"
      ]
     },
     "execution_count": 31,
     "metadata": {},
     "output_type": "execute_result"
    }
   ],
   "source": [
    "import random\n",
    "l=[1,2,3]\n",
    "random.shuffle(l)\n",
    "l"
   ]
  },
  {
   "cell_type": "code",
   "execution_count": 6,
   "metadata": {},
   "outputs": [],
   "source": [
    "for i in range(5,2):\n",
    "    print(i)"
   ]
  },
  {
   "cell_type": "code",
   "execution_count": 7,
   "metadata": {},
   "outputs": [
    {
     "name": "stdout",
     "output_type": "stream",
     "text": [
      "[0, 1, 2, 5, 2, 5, 5]\n"
     ]
    },
    {
     "data": {
      "text/plain": [
       "[0, 1, 2, 5]"
      ]
     },
     "execution_count": 7,
     "metadata": {},
     "output_type": "execute_result"
    }
   ],
   "source": [
    "temp = graph[path[4]] \n",
    "if type(temp) == int:\n",
    "    temp= [temp]\n",
    "if set(book) > set(list(temp)):\n",
    "    path.append(path[4 - 1])\n",
    "    print(path)\n",
    "book "
   ]
  },
  {
   "cell_type": "code",
   "execution_count": 41,
   "metadata": {},
   "outputs": [
    {
     "data": {
      "text/plain": [
       "[5]"
      ]
     },
     "execution_count": 41,
     "metadata": {},
     "output_type": "execute_result"
    }
   ],
   "source": [
    "type(5)==int\n",
    "l =5 \n",
    "l =[l]\n",
    "l\n",
    "list(l)"
   ]
  },
  {
   "cell_type": "code",
   "execution_count": 50,
   "metadata": {
    "scrolled": true
   },
   "outputs": [
    {
     "data": {
      "text/plain": [
       "True"
      ]
     },
     "execution_count": 50,
     "metadata": {},
     "output_type": "execute_result"
    }
   ],
   "source": [
    "lst = [0,1,2,3]\n",
    "l = [1,2]\n",
    "set(lst) > set(l)"
   ]
  }
 ],
 "metadata": {
  "kernelspec": {
   "display_name": "Python 3 (ipykernel)",
   "language": "python",
   "name": "python3"
  },
  "language_info": {
   "codemirror_mode": {
    "name": "ipython",
    "version": 3
   },
   "file_extension": ".py",
   "mimetype": "text/x-python",
   "name": "python",
   "nbconvert_exporter": "python",
   "pygments_lexer": "ipython3",
   "version": "3.9.10+"
  }
 },
 "nbformat": 4,
 "nbformat_minor": 2
}
